{
 "cells": [
  {
   "cell_type": "code",
   "execution_count": 16,
   "metadata": {},
   "outputs": [],
   "source": [
    "import numpy as np\n",
    "def readFile(file):\n",
    "    f=open(file,'r',encoding='utf-8')\n",
    "    text=f.read()\n",
    "    return text"
   ]
  },
  {
   "cell_type": "code",
   "execution_count": 17,
   "metadata": {},
   "outputs": [],
   "source": [
    "import gensim\n",
    "from gensim.models import KeyedVectors\n",
    "from gensim.models import Word2Vec\n",
    "from sklearn.metrics.pairwise import cosine_similarity"
   ]
  },
  {
   "cell_type": "code",
   "execution_count": 19,
   "metadata": {},
   "outputs": [],
   "source": [
    "word_vectors=KeyedVectors.load_word2vec_format('GoogleNews-vectors-negative300.bin',binary=True)"
   ]
  },
  {
   "cell_type": "code",
   "execution_count": 21,
   "metadata": {},
   "outputs": [],
   "source": [
    "def odd_one_out(words):\n",
    "    all_word_vector=[word_vectors[w] for w in words]\n",
    "    avg_vector=np.mean(all_word_vector,axis=0)\n",
    "    odd=None\n",
    "    min_similarity=1.0\n",
    "    for w in words:\n",
    "        sim=cosine_similarity([word_vectors[w]],[avg_vector])\n",
    "        if sim<min_similarity:\n",
    "            min_similarity=sim\n",
    "            odd=w\n",
    "    return odd"
   ]
  },
  {
   "cell_type": "code",
   "execution_count": 24,
   "metadata": {},
   "outputs": [
    {
     "data": {
      "text/plain": [
       "'cat'"
      ]
     },
     "execution_count": 24,
     "metadata": {},
     "output_type": "execute_result"
    }
   ],
   "source": [
    "odd_one_out([\"man\",\"woman\",\"child\",\"cat\"])"
   ]
  },
  {
   "cell_type": "code",
   "execution_count": 25,
   "metadata": {},
   "outputs": [],
   "source": [
    "import pandas as pd"
   ]
  },
  {
   "cell_type": "code",
   "execution_count": 26,
   "metadata": {},
   "outputs": [],
   "source": [
    "test_data=pd.read_csv('test.csv')"
   ]
  },
  {
   "cell_type": "code",
   "execution_count": 27,
   "metadata": {},
   "outputs": [],
   "source": [
    "test_data=test_data.values"
   ]
  },
  {
   "cell_type": "code",
   "execution_count": 28,
   "metadata": {},
   "outputs": [
    {
     "name": "stdout",
     "output_type": "stream",
     "text": [
      "(20, 5)\n"
     ]
    }
   ],
   "source": [
    "print(test_data.shape)"
   ]
  },
  {
   "cell_type": "code",
   "execution_count": 31,
   "metadata": {},
   "outputs": [],
   "source": [
    "predictions=[]\n",
    "for i in range(test_data.shape[0]):\n",
    "    predictions.append(odd_one_out(test_data[i]))"
   ]
  },
  {
   "cell_type": "code",
   "execution_count": 35,
   "metadata": {},
   "outputs": [],
   "source": [
    "result_df=pd.DataFrame(predictions,columns=[\"OddOne\"])"
   ]
  },
  {
   "cell_type": "code",
   "execution_count": 37,
   "metadata": {},
   "outputs": [],
   "source": [
    "result_df.to_csv('result.csv',index=False)"
   ]
  },
  {
   "cell_type": "code",
   "execution_count": 38,
   "metadata": {},
   "outputs": [
    {
     "name": "stdout",
     "output_type": "stream",
     "text": [
      "[['elephant' 'lion' 'tiger' 'goat' 'snake']\n",
      " ['man' 'policeman' 'fireman' 'teacher' 'postman']\n",
      " ['plane' 'bird' 'rocket' 'balloon' 'cat']\n",
      " ['onion' 'celery' 'lettuce' 'pineapple' 'potato']\n",
      " ['India' 'football' 'hockey' 'cricket' 'swimming']\n",
      " ['who' 'why' 'what' 'where' 'is']\n",
      " ['on' 'in' 'over' 'their' 'was']\n",
      " ['India' 'Australia' 'Japan' 'Russia' 'China']\n",
      " ['Dollar' 'Rupees' 'Euros' 'Cents' 'Money']\n",
      " ['eat' 'sleep' 'drink' 'think' 'dance']\n",
      " ['car' 'scooter' 'bike' 'bicycle' 'ship']\n",
      " ['Poland' 'Russia' 'England' 'Rome' 'Ukraine']\n",
      " ['Lake' 'Sea' 'River' 'Pool' 'Pond']\n",
      " ['Sun' 'Moon' 'Star' 'Mars' 'Egypt']\n",
      " ['fox' 'wolf' 'jackal' 'mouse' 'panther']\n",
      " ['veil' 'turban' 'helmet' 'shirt' 'hat']\n",
      " ['Physics' 'Chemistry' 'Geography' 'Botany' 'Universe']\n",
      " ['Assassinate' 'Kill' 'Kidnap' 'Stab' 'Murder']\n",
      " ['Hostel' 'Hotel' 'Inn' 'Club' 'Motel']\n",
      " ['Earth' 'Mars' 'Neptune' 'Pluto' 'Sun']]\n"
     ]
    }
   ],
   "source": [
    "print(test_data)"
   ]
  },
  {
   "cell_type": "code",
   "execution_count": 39,
   "metadata": {},
   "outputs": [
    {
     "name": "stdout",
     "output_type": "stream",
     "text": [
      "['snake', 'teacher', 'cat', 'pineapple', 'India', 'is', 'was', 'Australia', 'Money', 'think', 'ship', 'Rome', 'Pool', 'Egypt', 'mouse', 'helmet', 'Universe', 'Kill', 'Club', 'Sun']\n"
     ]
    }
   ],
   "source": [
    "print(predictions)"
   ]
  },
  {
   "cell_type": "code",
   "execution_count": null,
   "metadata": {},
   "outputs": [],
   "source": []
  }
 ],
 "metadata": {
  "kernelspec": {
   "display_name": "Python 3",
   "language": "python",
   "name": "python3"
  },
  "language_info": {
   "codemirror_mode": {
    "name": "ipython",
    "version": 3
   },
   "file_extension": ".py",
   "mimetype": "text/x-python",
   "name": "python",
   "nbconvert_exporter": "python",
   "pygments_lexer": "ipython3",
   "version": "3.6.8"
  }
 },
 "nbformat": 4,
 "nbformat_minor": 2
}
